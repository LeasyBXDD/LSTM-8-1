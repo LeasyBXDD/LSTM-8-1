{
 "cells": [
  {
   "metadata": {},
   "cell_type": "markdown",
   "source": [
    "### 实时场景中的自定义独热编码函数\n",
    "\n",
    "为了处理实时场景中的新类别问题，我们需要自定义独热编码函数。"
   ],
   "id": "335a9e925031ab6c"
  },
  {
   "metadata": {
    "ExecuteTime": {
     "end_time": "2024-08-05T12:34:19.489557Z",
     "start_time": "2024-08-05T12:34:16.970978Z"
    }
   },
   "cell_type": "code",
   "source": [
    "import numpy as np\n",
    "import tensorflow as tf"
   ],
   "id": "90fde63d6d08773e",
   "outputs": [],
   "execution_count": 1
  },
  {
   "cell_type": "code",
   "id": "initial_id",
   "metadata": {
    "collapsed": true,
    "ExecuteTime": {
     "end_time": "2024-08-05T12:34:19.504648Z",
     "start_time": "2024-08-05T12:34:19.490828Z"
    }
   },
   "source": [
    "class CustomOneHotEncoder:\n",
    "    def __init__(self):\n",
    "        self.class_map = {}\n",
    "        self.next_class = 0\n",
    "\n",
    "    def fit_transform(self, X):\n",
    "        encoded = []\n",
    "        for item in X:\n",
    "            if item not in self.class_map:\n",
    "                self.class_map[item] = self.next_class\n",
    "                self.next_class += 1\n",
    "            encoded.append(self.class_map[item])\n",
    "        return tf.keras.utils.to_categorical(encoded, num_classes=self.next_class)\n",
    "\n",
    "    def transform(self, X):\n",
    "        encoded = []\n",
    "        for item in X:\n",
    "            if item not in self.class_map:\n",
    "                self.class_map[item] = self.next_class\n",
    "                self.next_class += 1\n",
    "            encoded.append(self.class_map[item])\n",
    "        return tf.keras.utils.to_categorical(encoded, num_classes=self.next_class)"
   ],
   "outputs": [],
   "execution_count": 2
  },
  {
   "metadata": {},
   "cell_type": "markdown",
   "source": " `CustomOneHotEncoder` 类：将新类别映射到独热编码中，并保持类别映射的一致性。",
   "id": "67d4339ba7c02996"
  },
  {
   "metadata": {},
   "cell_type": "markdown",
   "source": "### 使用示例",
   "id": "fd9df5ad35d794b7"
  },
  {
   "metadata": {
    "ExecuteTime": {
     "end_time": "2024-08-05T12:34:19.596361Z",
     "start_time": "2024-08-05T12:34:19.505653Z"
    }
   },
   "cell_type": "code",
   "source": [
    "X_train = ['A', 'B', 'C', 'A', 'B']\n",
    "X_test = ['A', 'C', 'D']\n",
    "\n",
    "encoder = CustomOneHotEncoder()\n",
    "X_train_encoded = encoder.fit_transform(X_train)\n",
    "X_test_encoded = encoder.transform(X_test)\n",
    "\n",
    "print(X_train_encoded)\n",
    "print(X_test_encoded)"
   ],
   "id": "2218a702c2a02836",
   "outputs": [
    {
     "name": "stdout",
     "output_type": "stream",
     "text": [
      "[[1. 0. 0.]\n",
      " [0. 1. 0.]\n",
      " [0. 0. 1.]\n",
      " [1. 0. 0.]\n",
      " [0. 1. 0.]]\n",
      "[[1. 0. 0. 0.]\n",
      " [0. 0. 1. 0.]\n",
      " [0. 0. 0. 1.]]\n"
     ]
    }
   ],
   "execution_count": 3
  }
 ],
 "metadata": {
  "kernelspec": {
   "display_name": "Python 3",
   "language": "python",
   "name": "python3"
  },
  "language_info": {
   "codemirror_mode": {
    "name": "ipython",
    "version": 2
   },
   "file_extension": ".py",
   "mimetype": "text/x-python",
   "name": "python",
   "nbconvert_exporter": "python",
   "pygments_lexer": "ipython2",
   "version": "2.7.6"
  }
 },
 "nbformat": 4,
 "nbformat_minor": 5
}
